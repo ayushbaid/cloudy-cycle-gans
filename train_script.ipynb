{
  "nbformat": 4,
  "nbformat_minor": 0,
  "metadata": {
    "kernelspec": {
      "name": "python3",
      "display_name": "Python 3"
    },
    "language_info": {
      "codemirror_mode": {
        "name": "ipython",
        "version": 3
      },
      "file_extension": ".py",
      "mimetype": "text/x-python",
      "name": "python",
      "nbconvert_exporter": "python",
      "pygments_lexer": "ipython3",
      "version": "3.7.4"
    },
    "latex_envs": {
      "LaTeX_envs_menu_present": true,
      "autoclose": false,
      "autocomplete": true,
      "bibliofile": "biblio.bib",
      "cite_by": "apalike",
      "current_citInitial": 1,
      "eqLabelWithNumbers": true,
      "eqNumInitial": 1,
      "hotkeys": {
        "equation": "Ctrl-E",
        "itemize": "Ctrl-I"
      },
      "labels_anchors": false,
      "latex_user_defs": false,
      "report_style_numbering": false,
      "user_envs_cfg": false
    },
    "toc": {
      "base_numbering": 1,
      "nav_menu": {},
      "number_sections": true,
      "sideBar": true,
      "skip_h1_title": false,
      "title_cell": "Table of Contents",
      "title_sidebar": "Contents",
      "toc_cell": false,
      "toc_position": {},
      "toc_section_display": true,
      "toc_window_display": false
    },
    "colab": {
      "name": "train_script.ipynb",
      "provenance": [],
      "collapsed_sections": []
    },
    "accelerator": "GPU"
  },
  "cells": [
    {
      "cell_type": "code",
      "metadata": {
        "id": "a1dgPMNuoN6F",
        "colab_type": "code",
        "outputId": "c10a54ce-cf1e-4af2-dcab-abd1560c0696",
        "colab": {
          "base_uri": "https://localhost:8080/",
          "height": 125
        }
      },
      "source": [
        "from google.colab import drive\n",
        "drive.mount('/content/gdrive/')"
      ],
      "execution_count": 1,
      "outputs": [
        {
          "output_type": "stream",
          "text": [
            "Go to this URL in a browser: https://accounts.google.com/o/oauth2/auth?client_id=947318989803-6bn6qk8qdgf4n4g3pfee6491hc0brc4i.apps.googleusercontent.com&redirect_uri=urn%3aietf%3awg%3aoauth%3a2.0%3aoob&response_type=code&scope=email%20https%3a%2f%2fwww.googleapis.com%2fauth%2fdocs.test%20https%3a%2f%2fwww.googleapis.com%2fauth%2fdrive%20https%3a%2f%2fwww.googleapis.com%2fauth%2fdrive.photos.readonly%20https%3a%2f%2fwww.googleapis.com%2fauth%2fpeopleapi.readonly\n",
            "\n",
            "Enter your authorization code:\n",
            "··········\n",
            "Mounted at /content/gdrive/\n"
          ],
          "name": "stdout"
        }
      ]
    },
    {
      "cell_type": "code",
      "metadata": {
        "id": "W95fpB9DoN6Q",
        "colab_type": "code",
        "colab": {}
      },
      "source": [
        "!cp -r \"/content/gdrive/My Drive/Colab Notebooks/cloudy-cycle-gans/\" ./"
      ],
      "execution_count": 0,
      "outputs": []
    },
    {
      "cell_type": "code",
      "metadata": {
        "id": "IVFvMIyyofDd",
        "colab_type": "code",
        "outputId": "f0edceca-0b09-4564-b170-5876c3a21ea1",
        "colab": {
          "base_uri": "https://localhost:8080/",
          "height": 35
        }
      },
      "source": [
        "%cd 'cloudy-cycle-gans'"
      ],
      "execution_count": 3,
      "outputs": [
        {
          "output_type": "stream",
          "text": [
            "/content/cloudy-cycle-gans\n"
          ],
          "name": "stdout"
        }
      ]
    },
    {
      "cell_type": "code",
      "metadata": {
        "id": "fWYbvuLHoiN5",
        "colab_type": "code",
        "colab": {}
      },
      "source": [
        "!unzip -qq -d data_small/ data_small/compress.zip"
      ],
      "execution_count": 0,
      "outputs": []
    },
    {
      "cell_type": "code",
      "metadata": {
        "id": "z4CvwBrtoN6U",
        "colab_type": "code",
        "colab": {}
      },
      "source": [
        "%matplotlib inline\n",
        "%load_ext autoreload\n",
        "%autoreload 2"
      ],
      "execution_count": 0,
      "outputs": []
    },
    {
      "cell_type": "code",
      "metadata": {
        "id": "5o88CJ_OoN6Z",
        "colab_type": "code",
        "colab": {}
      },
      "source": [
        "from runner.trainer import Trainer"
      ],
      "execution_count": 0,
      "outputs": []
    },
    {
      "cell_type": "code",
      "metadata": {
        "id": "h9N7SgZ-oN6g",
        "colab_type": "code",
        "colab": {}
      },
      "source": [
        "import torch"
      ],
      "execution_count": 0,
      "outputs": []
    },
    {
      "cell_type": "code",
      "metadata": {
        "id": "HdQ5FZoQ386I",
        "colab_type": "code",
        "outputId": "9d5e154d-9f31-44fd-d803-206f6deb2f6c",
        "colab": {
          "base_uri": "https://localhost:8080/",
          "height": 318
        }
      },
      "source": [
        "!nvidia-smi\n",
        "torch.cuda.empty_cache()"
      ],
      "execution_count": 8,
      "outputs": [
        {
          "output_type": "stream",
          "text": [
            "Wed Nov 27 16:56:42 2019       \n",
            "+-----------------------------------------------------------------------------+\n",
            "| NVIDIA-SMI 440.33.01    Driver Version: 418.67       CUDA Version: 10.1     |\n",
            "|-------------------------------+----------------------+----------------------+\n",
            "| GPU  Name        Persistence-M| Bus-Id        Disp.A | Volatile Uncorr. ECC |\n",
            "| Fan  Temp  Perf  Pwr:Usage/Cap|         Memory-Usage | GPU-Util  Compute M. |\n",
            "|===============================+======================+======================|\n",
            "|   0  Tesla K80           Off  | 00000000:00:04.0 Off |                    0 |\n",
            "| N/A   73C    P8    31W / 149W |      0MiB / 11441MiB |      0%      Default |\n",
            "+-------------------------------+----------------------+----------------------+\n",
            "                                                                               \n",
            "+-----------------------------------------------------------------------------+\n",
            "| Processes:                                                       GPU Memory |\n",
            "|  GPU       PID   Type   Process name                             Usage      |\n",
            "|=============================================================================|\n",
            "|  No running processes found                                                 |\n",
            "+-----------------------------------------------------------------------------+\n"
          ],
          "name": "stdout"
        }
      ]
    },
    {
      "cell_type": "code",
      "metadata": {
        "id": "Mk3gBggQoN6j",
        "colab_type": "code",
        "outputId": "68f54390-4da4-44c4-c910-eac633f78435",
        "colab": {
          "base_uri": "https://localhost:8080/",
          "height": 35
        }
      },
      "source": [
        "is_cuda = True and torch.cuda.is_available()\n",
        "print(is_cuda)"
      ],
      "execution_count": 9,
      "outputs": [
        {
          "output_type": "stream",
          "text": [
            "True\n"
          ],
          "name": "stdout"
        }
      ]
    },
    {
      "cell_type": "code",
      "metadata": {
        "id": "ANeTdY1roN6m",
        "colab_type": "code",
        "colab": {}
      },
      "source": [
        "trainer = Trainer('data_small', \n",
        "                  '/content/gdrive/My Drive/Colab Notebooks/cloudy-cycle-gans/model_checkpoints2', \n",
        "                  batch_size=1, load_from_disk=True, cuda=is_cuda)"
      ],
      "execution_count": 0,
      "outputs": []
    },
    {
      "cell_type": "code",
      "metadata": {
        "id": "PJ9Ew1nWoN6p",
        "colab_type": "code",
        "outputId": "23d70ce5-4a60-45ea-af85-30195106aa37",
        "colab": {
          "base_uri": "https://localhost:8080/",
          "height": 1000
        }
      },
      "source": [
        "trainer.train(50)"
      ],
      "execution_count": 0,
      "outputs": [
        {
          "output_type": "stream",
          "text": [
            "Epoch #0 Batch#0\n",
            "Time elapsed: Global = 0.23556232452392578s Last log = 0.23556232452392578s\n",
            "Losses: T=12.5414232686162 G=1.6385717391967773, D=0.10922760516405106, C=10.793623924255371\n",
            "Epoch #0 Batch#100\n",
            "Time elapsed: Global = 46.072285652160645s Last log = 45.83672332763672s\n",
            "Losses: T=9.679426788317505 G=1.5543345767259598, D=0.13795231424504892, C=7.987139897346497\n",
            "Epoch #0 Batch#200\n",
            "Time elapsed: Global = 91.32384419441223s Last log = 45.25155854225159s\n",
            "Losses: T=8.85273446871026 G=1.5563880395889282, D=0.13496511055214797, C=7.161381318569183\n",
            "Epoch #0 Batch#300\n",
            "Time elapsed: Global = 136.6628680229187s Last log = 45.33902382850647s\n",
            "Losses: T=8.412672111596912 G=1.5610657405853272, D=0.12153830965980887, C=6.730068061351776\n",
            "Epoch #0 Batch#400\n",
            "Time elapsed: Global = 182.03451991081238s Last log = 45.37165188789368s\n",
            "Losses: T=8.321032737889327 G=1.6116053402423858, D=0.10786665717605501, C=6.6015607404708865\n",
            "Epoch #0 Batch#500\n",
            "Time elapsed: Global = 227.35706186294556s Last log = 45.32254195213318s\n",
            "Losses: T=8.849107638949063 G=1.6607683289051056, D=0.06708186661591753, C=7.121257443428039\n",
            "Epoch #0 Batch#600\n",
            "Time elapsed: Global = 272.6901812553406s Last log = 45.33311939239502s\n",
            "Losses: T=8.38896535797976 G=1.6217474675178527, D=0.104686149796471, C=6.662531740665436\n",
            "Epoch #0 Batch#700\n",
            "Time elapsed: Global = 317.99770641326904s Last log = 45.30752515792847s\n",
            "Losses: T=8.424832795790863 G=1.5994808864593506, D=0.1253019701759331, C=6.700049939155579\n",
            "Epoch #1 Batch#0\n",
            "Time elapsed: Global = 340.84979152679443s Last log = 22.85208511352539s\n",
            "Losses: T=8.32223723994568 G=1.579620749950409, D=0.11353777753189206, C=6.629078712463379\n",
            "Epoch #1 Batch#100\n",
            "Time elapsed: Global = 386.23664903640747s Last log = 45.38685750961304s\n",
            "Losses: T=8.34529944500653 G=1.5886893701553344, D=0.13604495129315183, C=6.620565123558045\n",
            "Epoch #1 Batch#200\n",
            "Time elapsed: Global = 431.59971022605896s Last log = 45.36306118965149s\n",
            "Losses: T=8.304681247033876 G=1.6222193801403046, D=0.1161320777318906, C=6.566329789161682\n",
            "Epoch #1 Batch#300\n",
            "Time elapsed: Global = 476.9759781360626s Last log = 45.37626791000366s\n",
            "Losses: T=8.641500760245254 G=1.5580969989299773, D=0.16857463114254642, C=6.91482913017273\n",
            "Epoch #1 Batch#400\n",
            "Time elapsed: Global = 522.2486770153046s Last log = 45.27269887924194s\n",
            "Losses: T=8.342761612252797 G=1.608858633339405, D=0.09238531591137872, C=6.6415176630020145\n",
            "Epoch #1 Batch#500\n",
            "Time elapsed: Global = 567.503221988678s Last log = 45.25454497337341s\n",
            "Losses: T=8.321076516208704 G=1.6594775092601777, D=0.06976172476774081, C=6.591837282180786\n",
            "Epoch #1 Batch#600\n",
            "Time elapsed: Global = 612.8072502613068s Last log = 45.304028272628784s\n",
            "Losses: T=8.319151390213955 G=1.6692729890346527, D=0.06293552340983297, C=6.58694287776947\n",
            "Epoch #1 Batch#700\n",
            "Time elapsed: Global = 658.2210438251495s Last log = 45.41379356384277s\n",
            "Losses: T=8.273837636700192 G=1.627755910754204, D=0.07855812250665622, C=6.567523603439331\n",
            "Epoch #2 Batch#0\n",
            "Time elapsed: Global = 681.1576147079468s Last log = 22.93657088279724s\n",
            "Losses: T=8.255124973808416 G=1.6348797726631163, D=0.07521820262540131, C=6.545026998519898\n",
            "Epoch #2 Batch#100\n",
            "Time elapsed: Global = 726.4944341182709s Last log = 45.3368194103241s\n",
            "Losses: T=8.158101439396852 G=1.6870577549934387, D=0.05528082601260394, C=6.415762858390808\n",
            "Epoch #2 Batch#200\n",
            "Time elapsed: Global = 771.8775632381439s Last log = 45.38312911987305s\n",
            "Losses: T=8.208305872285855 G=1.667309490442276, D=0.06273669680405874, C=6.478259685039521\n"
          ],
          "name": "stdout"
        }
      ]
    },
    {
      "cell_type": "code",
      "metadata": {
        "id": "Ar_nVHHjyKrf",
        "colab_type": "code",
        "colab": {}
      },
      "source": [
        "trainer.test_on_random_images(out_dir='/content/gdrive/My Drive/Colab Notebooks/cloudy-cycle-gans/sample_images/')"
      ],
      "execution_count": 0,
      "outputs": []
    },
    {
      "cell_type": "code",
      "metadata": {
        "id": "mAR8hLJkBO9e",
        "colab_type": "code",
        "outputId": "daaedc06-2f19-4f10-a207-963e30a7d2be",
        "colab": {
          "base_uri": "https://localhost:8080/",
          "height": 281
        }
      },
      "source": [
        "trainer.train_history.plot_train_loss()"
      ],
      "execution_count": 0,
      "outputs": [
        {
          "output_type": "display_data",
          "data": {
            "image/png": "[encoded data removed]",
            "text/plain": [
              "<Figure size 432x288 with 1 Axes>"
            ]
          },
          "metadata": {
            "tags": []
          }
        }
      ]
    }
  ]
}